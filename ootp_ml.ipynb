{
 "cells": [
  {
   "cell_type": "code",
   "execution_count": 1,
   "metadata": {},
   "outputs": [],
   "source": [
    "import pandas as pd\n",
    "import numpy as np\n",
    "import matplotlib.pyplot as plt\n",
    "import warnings\n",
    "warnings.filterwarnings('ignore')\n",
    "\n",
    "pcb_df = pd.read_csv('../ootp/ootp41219/players_career_batting_stats.csv')\n",
    "p_df = pd.read_csv('../ootp/ootp41219/players.csv')"
   ]
  },
  {
   "cell_type": "code",
   "execution_count": 2,
   "metadata": {},
   "outputs": [
    {
     "name": "stdout",
     "output_type": "stream",
     "text": [
      "pcb:  (556470, 32)\n",
      "p:  (53097, 98)\n"
     ]
    }
   ],
   "source": [
    "#Lets first look at the data\n",
    "\n",
    "print('pcb: ',pcb_df.shape)\n",
    "print('p: ',p_df.shape)"
   ]
  },
  {
   "cell_type": "code",
   "execution_count": 3,
   "metadata": {},
   "outputs": [],
   "source": [
    "#Now lets merge\n",
    "df = pd.merge(pcb_df, p_df, \n",
    "              left_on='player_id', \n",
    "              right_on='player_id', \n",
    "              how='left')"
   ]
  },
  {
   "cell_type": "code",
   "execution_count": 43,
   "metadata": {},
   "outputs": [
    {
     "name": "stdout",
     "output_type": "stream",
     "text": [
      "df shape: (11, 131)\n"
     ]
    },
    {
     "data": {
      "image/png": "[encoded data removed]",
      "text/plain": [
       "<Figure size 432x288 with 1 Axes>"
      ]
     },
     "metadata": {
      "needs_background": "light"
     },
     "output_type": "display_data"
    }
   ],
   "source": [
    "player = 46086\n",
    "\n",
    "df = df.loc[df['split_id']==1]\n",
    "df = df.loc[df['draft_year'] != 0]\n",
    "\n",
    "df1 = df.loc[df['player_id']==player]\n",
    "\n",
    "df1['batting_avg'] = df1['h']/df1['ab']\n",
    "df1['peak mlb avg'] = df1['batting_avg'].where(df1['player_id'] == player,\n",
    "                                            df1['level_id'] == 1).groupby(df1['level_id']).transform('max')\n",
    "\n",
    "print('df shape:',df1.shape)\n",
    "# The MLB is league 146\n",
    "\n",
    "year = df1['year'].where(df1['player_id'] == player)\n",
    "avg = df1['batting_avg'].where(df1['level_id'] == 1)\n",
    "plt.plot(year, avg, color='r')\n",
    "plt.xlabel('Year')\n",
    "plt.ylabel('Avg')\n",
    "plt.title('MLB Batting Avg')\n",
    "plt.show()"
   ]
  },
  {
   "cell_type": "code",
   "execution_count": 46,
   "metadata": {},
   "outputs": [
    {
     "name": "stdout",
     "output_type": "stream",
     "text": [
      "516819    0.316514\n",
      "516820    0.090909\n",
      "516824    0.393939\n",
      "516827    0.331034\n",
      "516830    0.252137\n",
      "516832    0.225000\n",
      "516835    0.292398\n",
      "516838    0.236111\n",
      "516841    0.306569\n",
      "516845    0.300172\n",
      "516848    0.303207\n",
      "Name: batting_avg, dtype: float64 516819    10\n",
      "516820     6\n",
      "516824     5\n",
      "516827     6\n",
      "516830     4\n",
      "516832     3\n",
      "516835     2\n",
      "516838     1\n",
      "516841     1\n",
      "516845     1\n",
      "516848     1\n",
      "Name: level_id, dtype: int64\n"
     ]
    }
   ],
   "source": [
    "\n",
    "\n",
    "year = df1['batting_avg'].where(df1['player_id'] == player)\n",
    "level_id = df1['batting_avg'].where(df1['level_id'] != 100)\n",
    "\n",
    "print(level_id, df1['level_id'])\n",
    "\n"
   ]
  }
 ],
 "metadata": {
  "kernelspec": {
   "display_name": "Python 3",
   "language": "python",
   "name": "python3"
  },
  "language_info": {
   "codemirror_mode": {
    "name": "ipython",
    "version": 3
   },
   "file_extension": ".py",
   "mimetype": "text/x-python",
   "name": "python",
   "nbconvert_exporter": "python",
   "pygments_lexer": "ipython3",
   "version": "3.7.1"
  }
 },
 "nbformat": 4,
 "nbformat_minor": 2
}
